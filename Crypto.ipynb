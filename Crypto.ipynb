{
 "metadata": {
  "language_info": {
   "codemirror_mode": {
    "name": "ipython",
    "version": 3
   },
   "file_extension": ".py",
   "mimetype": "text/x-python",
   "name": "python",
   "nbconvert_exporter": "python",
   "pygments_lexer": "ipython3",
   "version": "3.8.5"
  },
  "orig_nbformat": 2,
  "kernelspec": {
   "name": "python385jvsc74a57bd092276d61c3472c4965d848b4587d052762706bffc66db3224f4ee63e5477bca3",
   "display_name": "Python 3.8.5 64-bit (conda)"
  }
 },
 "nbformat": 4,
 "nbformat_minor": 2,
 "cells": [
  {
   "cell_type": "code",
   "execution_count": 1,
   "metadata": {},
   "outputs": [],
   "source": [
    "import pandas as pd\n",
    "import numpy as np\n",
    "import os,sys"
   ]
  },
  {
   "cell_type": "code",
   "execution_count": 2,
   "metadata": {},
   "outputs": [],
   "source": [
    "fdir = os.path.join(sys.path[0],\"data/\")\n",
    "flist = os.listdir(fdir)\n",
    "DataSet = {}\n",
    "for file in flist:\n",
    "    # print(file)\n",
    "    Coinname = file.replace(\"coin_\", \"\", 1).replace(\".csv\",\"\",1)\n",
    "    # print(Coinname)\n",
    "    DataSet[Coinname] = pd.read_csv(\"data/\"+file)"
   ]
  },
  {
   "cell_type": "code",
   "execution_count": 3,
   "metadata": {},
   "outputs": [
    {
     "output_type": "execute_result",
     "data": {
      "text/plain": [
       "   SNo  Name Symbol                 Date       High        Low       Open  \\\n",
       "0    1  Aave   AAVE  2020-10-05 23:59:59  55.112358  49.787900  52.675035   \n",
       "1    2  Aave   AAVE  2020-10-06 23:59:59  53.402270  40.734578  53.291969   \n",
       "2    3  Aave   AAVE  2020-10-07 23:59:59  42.408314  35.970690  42.399947   \n",
       "3    4  Aave   AAVE  2020-10-08 23:59:59  44.902511  36.696057  39.885262   \n",
       "4    5  Aave   AAVE  2020-10-09 23:59:59  47.569533  43.291776  43.764463   \n",
       "\n",
       "       Close        Volume     Marketcap  \n",
       "0  53.219243  0.000000e+00  8.912813e+07  \n",
       "1  42.401599  5.830915e+05  7.101144e+07  \n",
       "2  40.083976  6.828342e+05  6.713004e+07  \n",
       "3  43.764463  1.658817e+06  2.202651e+08  \n",
       "4  46.817744  8.155377e+05  2.356322e+08  "
      ],
      "text/html": "<div>\n<style scoped>\n    .dataframe tbody tr th:only-of-type {\n        vertical-align: middle;\n    }\n\n    .dataframe tbody tr th {\n        vertical-align: top;\n    }\n\n    .dataframe thead th {\n        text-align: right;\n    }\n</style>\n<table border=\"1\" class=\"dataframe\">\n  <thead>\n    <tr style=\"text-align: right;\">\n      <th></th>\n      <th>SNo</th>\n      <th>Name</th>\n      <th>Symbol</th>\n      <th>Date</th>\n      <th>High</th>\n      <th>Low</th>\n      <th>Open</th>\n      <th>Close</th>\n      <th>Volume</th>\n      <th>Marketcap</th>\n    </tr>\n  </thead>\n  <tbody>\n    <tr>\n      <th>0</th>\n      <td>1</td>\n      <td>Aave</td>\n      <td>AAVE</td>\n      <td>2020-10-05 23:59:59</td>\n      <td>55.112358</td>\n      <td>49.787900</td>\n      <td>52.675035</td>\n      <td>53.219243</td>\n      <td>0.000000e+00</td>\n      <td>8.912813e+07</td>\n    </tr>\n    <tr>\n      <th>1</th>\n      <td>2</td>\n      <td>Aave</td>\n      <td>AAVE</td>\n      <td>2020-10-06 23:59:59</td>\n      <td>53.402270</td>\n      <td>40.734578</td>\n      <td>53.291969</td>\n      <td>42.401599</td>\n      <td>5.830915e+05</td>\n      <td>7.101144e+07</td>\n    </tr>\n    <tr>\n      <th>2</th>\n      <td>3</td>\n      <td>Aave</td>\n      <td>AAVE</td>\n      <td>2020-10-07 23:59:59</td>\n      <td>42.408314</td>\n      <td>35.970690</td>\n      <td>42.399947</td>\n      <td>40.083976</td>\n      <td>6.828342e+05</td>\n      <td>6.713004e+07</td>\n    </tr>\n    <tr>\n      <th>3</th>\n      <td>4</td>\n      <td>Aave</td>\n      <td>AAVE</td>\n      <td>2020-10-08 23:59:59</td>\n      <td>44.902511</td>\n      <td>36.696057</td>\n      <td>39.885262</td>\n      <td>43.764463</td>\n      <td>1.658817e+06</td>\n      <td>2.202651e+08</td>\n    </tr>\n    <tr>\n      <th>4</th>\n      <td>5</td>\n      <td>Aave</td>\n      <td>AAVE</td>\n      <td>2020-10-09 23:59:59</td>\n      <td>47.569533</td>\n      <td>43.291776</td>\n      <td>43.764463</td>\n      <td>46.817744</td>\n      <td>8.155377e+05</td>\n      <td>2.356322e+08</td>\n    </tr>\n  </tbody>\n</table>\n</div>"
     },
     "metadata": {},
     "execution_count": 3
    }
   ],
   "source": [
    "# pd.read_csv(\"data/\"+\"coin_Aave.csv\").head()\n",
    "DataSet[\"Aave\"].head()"
   ]
  }
 ]
}